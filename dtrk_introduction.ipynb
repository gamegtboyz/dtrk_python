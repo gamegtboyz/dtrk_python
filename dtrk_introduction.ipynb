{
 "cells": [
  {
   "cell_type": "code",
   "execution_count": 77,
   "metadata": {},
   "outputs": [
    {
     "name": "stdout",
     "output_type": "stream",
     "text": [
      "hello world\n"
     ]
    }
   ],
   "source": [
    "print(\"hello world\")"
   ]
  },
  {
   "cell_type": "markdown",
   "metadata": {},
   "source": [
    "## python programming 101\n",
    "- variables\n",
    "- data types\n",
    "- data structures\n",
    "- function\n",
    "- control flow"
   ]
  },
  {
   "cell_type": "code",
   "execution_count": 78,
   "metadata": {},
   "outputs": [
    {
     "data": {
      "text/plain": [
       "2"
      ]
     },
     "execution_count": 78,
     "metadata": {},
     "output_type": "execute_result"
    }
   ],
   "source": [
    "# basic expression\n",
    "## retun the calculation without print statements\n",
    "1+1"
   ]
  },
  {
   "cell_type": "code",
   "execution_count": 79,
   "metadata": {},
   "outputs": [
    {
     "data": {
      "text/plain": [
       "4"
      ]
     },
     "execution_count": 79,
     "metadata": {},
     "output_type": "execute_result"
    }
   ],
   "source": [
    "## the code read from up to down so it will print only latest calculation\n",
    "1+2\n",
    "2+2"
   ]
  },
  {
   "cell_type": "code",
   "execution_count": 80,
   "metadata": {},
   "outputs": [
    {
     "name": "stdout",
     "output_type": "stream",
     "text": [
      "1\n",
      "3\n"
     ]
    },
    {
     "data": {
      "text/plain": [
       "2032"
      ]
     },
     "execution_count": 80,
     "metadata": {},
     "output_type": "execute_result"
    }
   ],
   "source": [
    "print(8//5) # floor division\n",
    "print(8%5) # modulo\n",
    "pow(2,5) # powering\n",
    "abs(-2032) # absolute"
   ]
  },
  {
   "cell_type": "code",
   "execution_count": 81,
   "metadata": {},
   "outputs": [
    {
     "data": {
      "text/plain": [
       "True"
      ]
     },
     "execution_count": 81,
     "metadata": {},
     "output_type": "execute_result"
    }
   ],
   "source": [
    "# compare operators\n",
    "1+1 == 2"
   ]
  },
  {
   "cell_type": "code",
   "execution_count": 82,
   "metadata": {},
   "outputs": [
    {
     "name": "stdout",
     "output_type": "stream",
     "text": [
      "my name is James\n"
     ]
    }
   ],
   "source": [
    "## variables\n",
    "my_name = \"James\"\n",
    "print(\"my name is\", my_name)"
   ]
  },
  {
   "cell_type": "code",
   "execution_count": 83,
   "metadata": {},
   "outputs": [
    {
     "name": "stdout",
     "output_type": "stream",
     "text": [
      "The variable is not defined\n"
     ]
    }
   ],
   "source": [
    "## delete variable\n",
    "del my_name\n",
    "try:\n",
    "    my_name\n",
    "except:\n",
    "    print(\"The variable is not defined\")"
   ]
  },
  {
   "cell_type": "code",
   "execution_count": 84,
   "metadata": {},
   "outputs": [
    {
     "data": {
      "text/plain": [
       "'My name is james, 40 years old British spy'"
      ]
     },
     "execution_count": 84,
     "metadata": {},
     "output_type": "execute_result"
    }
   ],
   "source": [
    "## print the string\n",
    "my_name = \"james\"\n",
    "age = 40\n",
    "job = \"British spy\"\n",
    "\n",
    "f\"My name is {my_name}, {age} years old {job}\""
   ]
  },
  {
   "cell_type": "code",
   "execution_count": 85,
   "metadata": {},
   "outputs": [
    {
     "data": {
      "text/plain": [
       "'Hi my name is james'"
      ]
     },
     "execution_count": 85,
     "metadata": {},
     "output_type": "execute_result"
    }
   ],
   "source": [
    "# traditional way of fstring\n",
    "\"Hi my name is {}\".format(my_name)"
   ]
  },
  {
   "cell_type": "code",
   "execution_count": 86,
   "metadata": {},
   "outputs": [
    {
     "name": "stdout",
     "output_type": "stream",
     "text": [
      "2 5 100\n"
     ]
    }
   ],
   "source": [
    "print(2, 5, 100) # print multiple variables"
   ]
  },
  {
   "cell_type": "code",
   "execution_count": 87,
   "metadata": {},
   "outputs": [
    {
     "name": "stdout",
     "output_type": "stream",
     "text": [
      "Hello\n",
      "world\n"
     ]
    }
   ],
   "source": [
    "print(\"Hello\\nworld\") # new line"
   ]
  },
  {
   "cell_type": "code",
   "execution_count": 88,
   "metadata": {},
   "outputs": [
    {
     "name": "stdout",
     "output_type": "stream",
     "text": [
      "Hello\tWorld\n"
     ]
    }
   ],
   "source": [
    "print(\"Hello\\tWorld\") # tab"
   ]
  },
  {
   "cell_type": "code",
   "execution_count": 89,
   "metadata": {},
   "outputs": [
    {
     "name": "stdout",
     "output_type": "stream",
     "text": [
      "I'm Bond, James Bond\n"
     ]
    }
   ],
   "source": [
    "print('I\\'m Bond, James Bond')"
   ]
  },
  {
   "cell_type": "code",
   "execution_count": 90,
   "metadata": {},
   "outputs": [
    {
     "name": "stdout",
     "output_type": "stream",
     "text": [
      "\n",
      "    Hello world.\n",
      "    I don't know how much time I'm learning Python Basics.\n",
      "    But it's still fantastic AF.\n",
      "    \n"
     ]
    }
   ],
   "source": [
    "print(\n",
    "    '''\n",
    "    Hello world.\n",
    "    I don't know how much time I'm learning Python Basics.\n",
    "    But it's still fantastic AF.\n",
    "    '''\n",
    ")"
   ]
  },
  {
   "cell_type": "markdown",
   "metadata": {},
   "source": [
    "## data types in python\n",
    "- int\n",
    "- float\n",
    "- string\n",
    "- bool"
   ]
  },
  {
   "cell_type": "code",
   "execution_count": 91,
   "metadata": {},
   "outputs": [
    {
     "name": "stdout",
     "output_type": "stream",
     "text": [
      "1 <class 'int'>\n",
      "1 <class 'str'>\n",
      "True <class 'bool'>\n",
      "1.0 <class 'float'>\n"
     ]
    }
   ],
   "source": [
    "## casting data types\n",
    "x = 1\n",
    "print(x, type(x))\n",
    "\n",
    "x = str(x)\n",
    "print(x, type(x))\n",
    "\n",
    "x = bool(x)\n",
    "print(x, type(x))\n",
    "\n",
    "x = float(x)\n",
    "print(x, type(x))"
   ]
  },
  {
   "cell_type": "code",
   "execution_count": 92,
   "metadata": {},
   "outputs": [
    {
     "name": "stdout",
     "output_type": "stream",
     "text": [
      "False\n",
      "True\n"
     ]
    }
   ],
   "source": [
    "# bool 0 is false, otherwise is true\n",
    "print(bool(0))\n",
    "print(bool(123))"
   ]
  },
  {
   "cell_type": "code",
   "execution_count": 93,
   "metadata": {},
   "outputs": [
    {
     "data": {
      "text/plain": [
       "'Hi, your name is ,  '"
      ]
     },
     "execution_count": 93,
     "metadata": {},
     "output_type": "execute_result"
    }
   ],
   "source": [
    "# get input from user\n",
    "username = input(\"what's your name\")\n",
    "surname = input(\"what's your surname\")\n",
    "f\"Hi, your name is {surname}, {username} {surname}\""
   ]
  },
  {
   "cell_type": "code",
   "execution_count": 94,
   "metadata": {},
   "outputs": [],
   "source": [
    "## type hint (since python is dynamic data type so it will not force the data types)\n",
    "age: int = 20\n",
    "gpa: float = 3.5"
   ]
  },
  {
   "cell_type": "code",
   "execution_count": 95,
   "metadata": {},
   "outputs": [
    {
     "name": "stdout",
     "output_type": "stream",
     "text": [
      "20 <class 'int'>\n",
      "3.5 <class 'float'>\n"
     ]
    }
   ],
   "source": [
    "print(age, type(age))\n",
    "print(gpa, type(gpa))"
   ]
  },
  {
   "cell_type": "code",
   "execution_count": 96,
   "metadata": {},
   "outputs": [
    {
     "name": "stdout",
     "output_type": "stream",
     "text": [
      "468\n"
     ]
    }
   ],
   "source": [
    "## define custom function\n",
    "def addition(x,y):\n",
    "    return x + y\n",
    "\n",
    "z = addition(123, 345)\n",
    "print(z)"
   ]
  },
  {
   "cell_type": "code",
   "execution_count": 97,
   "metadata": {},
   "outputs": [
    {
     "data": {
      "text/plain": [
       "\"My name's Bond, James Bond\""
      ]
     },
     "execution_count": 97,
     "metadata": {},
     "output_type": "execute_result"
    }
   ],
   "source": [
    "## define zero arguments function\n",
    "def whatsyourname():\n",
    "    return \"My name's Bond, James Bond\"\n",
    "\n",
    "whatsyourname()"
   ]
  },
  {
   "cell_type": "code",
   "execution_count": 98,
   "metadata": {},
   "outputs": [],
   "source": [
    "## define function with default arguments\n",
    "def greetings(name=\"James\", surname=\"Bond\"):\n",
    "    return f\"My name's {surname}, {name} {surname}\""
   ]
  },
  {
   "cell_type": "code",
   "execution_count": 99,
   "metadata": {},
   "outputs": [
    {
     "name": "stdout",
     "output_type": "stream",
     "text": [
      "My name's Potter, Harry Potter\n",
      "My name's Bond, James Bond\n"
     ]
    }
   ],
   "source": [
    "print(greetings(\"Harry\", \"Potter\"))\n",
    "print(greetings())"
   ]
  },
  {
   "cell_type": "code",
   "execution_count": 100,
   "metadata": {},
   "outputs": [],
   "source": [
    "## receive input from users\n",
    "def greetings_2(name=\"James\", surname=\"Bond\"):\n",
    "    name = input(\"What's your name? \")\n",
    "    surname = input(\"Well, what's your surname? \")\n",
    "    return f\"My name's {surname}, {name} {surname}\""
   ]
  },
  {
   "cell_type": "code",
   "execution_count": 101,
   "metadata": {},
   "outputs": [
    {
     "data": {
      "text/plain": [
       "\"My name's ,  \""
      ]
     },
     "execution_count": 101,
     "metadata": {},
     "output_type": "execute_result"
    }
   ],
   "source": [
    "greetings_2()"
   ]
  },
  {
   "cell_type": "code",
   "execution_count": 102,
   "metadata": {},
   "outputs": [],
   "source": [
    "## funciton which return multiple values\n",
    "def demo():\n",
    "    name1 = input(\"What's your name? \")\n",
    "    name2 = input(\"Well, what's your another name? \")\n",
    "    return name1, name2 # return as tuples"
   ]
  },
  {
   "cell_type": "code",
   "execution_count": 103,
   "metadata": {},
   "outputs": [
    {
     "data": {
      "text/plain": [
       "('', '')"
      ]
     },
     "execution_count": 103,
     "metadata": {},
     "output_type": "execute_result"
    }
   ],
   "source": [
    "demo()"
   ]
  },
  {
   "cell_type": "code",
   "execution_count": 104,
   "metadata": {},
   "outputs": [
    {
     "data": {
      "text/plain": [
       "\"Your friend's name is  \\n,and another one named \""
      ]
     },
     "execution_count": 104,
     "metadata": {},
     "output_type": "execute_result"
    }
   ],
   "source": [
    "## tuple unpacking by assignment onto multiple variables\n",
    "friend1, friend2 = demo()\n",
    "f\"Your friend's name is {friend1} \\n,and another one named {friend2}\""
   ]
  },
  {
   "cell_type": "code",
   "execution_count": 105,
   "metadata": {},
   "outputs": [],
   "source": [
    "## data structures (list, tuples, dictionary, set)"
   ]
  },
  {
   "cell_type": "code",
   "execution_count": 106,
   "metadata": {},
   "outputs": [
    {
     "data": {
      "text/plain": [
       "['Coat', 'Bracelet', 'Rope', 'Rifles', 'Pendant', 1000]"
      ]
     },
     "execution_count": 106,
     "metadata": {},
     "output_type": "execute_result"
    }
   ],
   "source": [
    "## list is the variables which could store multiple values\n",
    "shopping_list = [\"Coat\",\"Bracelet\",\"Rope\",\"Rifles\",\"Pendant\",1000] # it could storer multiple type of values\n",
    "shopping_list"
   ]
  },
  {
   "cell_type": "code",
   "execution_count": 107,
   "metadata": {},
   "outputs": [
    {
     "data": {
      "text/plain": [
       "['Coat', 'Bracelet', 'Rope', 'Rifles', 'Pendant', 1000, 'Bayonet']"
      ]
     },
     "execution_count": 107,
     "metadata": {},
     "output_type": "execute_result"
    }
   ],
   "source": [
    "# to add new item into list, we need to 'append' the new items\n",
    "shopping_list.append(\"Bayonet\")\n",
    "shopping_list"
   ]
  },
  {
   "cell_type": "code",
   "execution_count": 108,
   "metadata": {},
   "outputs": [
    {
     "data": {
      "text/plain": [
       "['Pistols', 'Coat', 'Bracelet', 'Rope', 'Rifles', 'Pendant', 1000, 'Bayonet']"
      ]
     },
     "execution_count": 108,
     "metadata": {},
     "output_type": "execute_result"
    }
   ],
   "source": [
    "# add the new item into specified order of list\n",
    "shopping_list.insert(0,\"Pistols\") # add into index 0 (the first items)\n",
    "shopping_list"
   ]
  },
  {
   "cell_type": "code",
   "execution_count": 109,
   "metadata": {},
   "outputs": [
    {
     "data": {
      "text/plain": [
       "['Pistols',\n",
       " 'Coat',\n",
       " 'Bracelet',\n",
       " 'Rope',\n",
       " 'Rifles',\n",
       " 'Pendant',\n",
       " 'Saber',\n",
       " 'Bayonet']"
      ]
     },
     "execution_count": 109,
     "metadata": {},
     "output_type": "execute_result"
    }
   ],
   "source": [
    "# update values on list\n",
    "shopping_list[6] = \"Saber\"\n",
    "shopping_list"
   ]
  },
  {
   "cell_type": "code",
   "execution_count": 110,
   "metadata": {},
   "outputs": [
    {
     "data": {
      "text/plain": [
       "['Pistols', 'Coat', 'Bracelet', 'Rope', 'Rifles', 'Pendant', 'Bayonet']"
      ]
     },
     "execution_count": 110,
     "metadata": {},
     "output_type": "execute_result"
    }
   ],
   "source": [
    "# remove the item\n",
    "shopping_list.remove(\"Saber\")\n",
    "shopping_list"
   ]
  },
  {
   "cell_type": "code",
   "execution_count": 111,
   "metadata": {},
   "outputs": [
    {
     "data": {
      "text/plain": [
       "['Pistols', 'Coat', 'Bracelet', 'Rope', 'Rifles', 'Pendant']"
      ]
     },
     "execution_count": 111,
     "metadata": {},
     "output_type": "execute_result"
    }
   ],
   "source": [
    "shopping_list.pop()\n",
    "shopping_list"
   ]
  },
  {
   "cell_type": "code",
   "execution_count": 113,
   "metadata": {},
   "outputs": [
    {
     "data": {
      "text/plain": [
       "['Coat', 'Rope', 'Armor', 'Rifles', 'Bracelet', 'Saber']"
      ]
     },
     "execution_count": 113,
     "metadata": {},
     "output_type": "execute_result"
    }
   ],
   "source": [
    "# join 2 list together\n",
    "item1 = [\"Coat\",\"Rope\",\"Armor\"]\n",
    "item2 = [\"Rifles\",\"Bracelet\",\"Saber\"]\n",
    "basket = item1 + item2\n",
    "basket"
   ]
  },
  {
   "cell_type": "code",
   "execution_count": 115,
   "metadata": {},
   "outputs": [
    {
     "data": {
      "text/plain": [
       "['Armor', 'Bracelet', 'Coat', 'Rifles', 'Rope', 'Saber']"
      ]
     },
     "execution_count": 115,
     "metadata": {},
     "output_type": "execute_result"
    }
   ],
   "source": [
    "basket.sort()\n",
    "basket"
   ]
  },
  {
   "cell_type": "code",
   "execution_count": 116,
   "metadata": {},
   "outputs": [
    {
     "data": {
      "text/plain": [
       "['Saber', 'Rope', 'Rifles', 'Coat', 'Bracelet', 'Armor']"
      ]
     },
     "execution_count": 116,
     "metadata": {},
     "output_type": "execute_result"
    }
   ],
   "source": [
    "basket.reverse()\n",
    "basket"
   ]
  },
  {
   "cell_type": "code",
   "execution_count": 117,
   "metadata": {},
   "outputs": [
    {
     "name": "stdout",
     "output_type": "stream",
     "text": [
      "['roseapple', 'orange'] ['roseapple', 'orange']\n"
     ]
    }
   ],
   "source": [
    "fruit1 = ['lemon','orange']\n",
    "fruit2 = fruit1\n",
    "fruit1[0] = 'roseapple'\n",
    "print(fruit1, fruit2) # this shows that list is the mutable objects"
   ]
  },
  {
   "cell_type": "code",
   "execution_count": 118,
   "metadata": {},
   "outputs": [
    {
     "name": "stdout",
     "output_type": "stream",
     "text": [
      "['roseapple', 'orange'] ['lemon', 'orange']\n"
     ]
    }
   ],
   "source": [
    "# so we need to use 'copy' method\n",
    "fruit1 = ['lemon','orange']\n",
    "fruit2 = fruit1.copy()\n",
    "fruit1[0] = 'roseapple'\n",
    "print(fruit1, fruit2)"
   ]
  },
  {
   "cell_type": "code",
   "execution_count": 119,
   "metadata": {},
   "outputs": [
    {
     "data": {
      "text/plain": [
       "('Bernelli', 'Furuholen', 'Felix')"
      ]
     },
     "execution_count": 119,
     "metadata": {},
     "output_type": "execute_result"
    }
   ],
   "source": [
    "# on the other hand, tuples is immutable objects\n",
    "squad1 = ('Bernelli','Furuholen','Felix')\n",
    "squad1"
   ]
  },
  {
   "cell_type": "code",
   "execution_count": 122,
   "metadata": {},
   "outputs": [
    {
     "name": "stdout",
     "output_type": "stream",
     "text": [
      "We could not update the tuples, as it's immutable\n"
     ]
    }
   ],
   "source": [
    "try:\n",
    "    squad1[0] = 'Grace'\n",
    "except:\n",
    "    print(\"We could not update the tuples, as it's immutable\")"
   ]
  },
  {
   "cell_type": "code",
   "execution_count": 137,
   "metadata": {},
   "outputs": [
    {
     "data": {
      "text/plain": [
       "{'fname': 'Grace',\n",
       " 'sname': 'Bernelli',\n",
       " 'town': 'Coimbra',\n",
       " 'specialty': 'Rifles',\n",
       " 'function': <function __main__.shoot()>}"
      ]
     },
     "execution_count": 137,
     "metadata": {},
     "output_type": "execute_result"
    }
   ],
   "source": [
    "# dictionary is how we stored the data as key-value pairs\n",
    "def shoot():\n",
    "    return print(\"Bang Bang\")\n",
    "\n",
    "squad_dict = {\n",
    "    \"fname\": \"Grace\",\n",
    "    \"sname\": \"Bernelli\",\n",
    "    \"town\": \"Coimbra\",\n",
    "    \"specialty\": \"Rifles\",\n",
    "    \"function\": shoot\n",
    "}\n",
    "\n",
    "squad_dict"
   ]
  },
  {
   "cell_type": "code",
   "execution_count": 138,
   "metadata": {},
   "outputs": [
    {
     "data": {
      "text/plain": [
       "<function __main__.shoot()>"
      ]
     },
     "execution_count": 138,
     "metadata": {},
     "output_type": "execute_result"
    }
   ],
   "source": [
    "squad_dict[\"function\"]"
   ]
  },
  {
   "cell_type": "code",
   "execution_count": 139,
   "metadata": {},
   "outputs": [
    {
     "data": {
      "text/plain": [
       "{'fname': 'Lorch',\n",
       " 'sname': 'Bernelli',\n",
       " 'town': 'Coimbra',\n",
       " 'specialty': 'Rifles',\n",
       " 'function': <function __main__.shoot()>}"
      ]
     },
     "execution_count": 139,
     "metadata": {},
     "output_type": "execute_result"
    }
   ],
   "source": [
    "# update dict values, noted that dictionary is mutable objects\n",
    "# we couldn't use indexing to access data, we could use only key string\n",
    "squad_dict[\"fname\"] = \"Lorch\"\n",
    "squad_dict"
   ]
  },
  {
   "cell_type": "code",
   "execution_count": 141,
   "metadata": {},
   "outputs": [
    {
     "data": {
      "text/plain": [
       "'Lorch'"
      ]
     },
     "execution_count": 141,
     "metadata": {},
     "output_type": "execute_result"
    }
   ],
   "source": [
    "# another one is using get, in case the code couldn't find the string, it will returns nothing.\n",
    "squad_dict.get(\"fname\")"
   ]
  },
  {
   "cell_type": "code",
   "execution_count": 142,
   "metadata": {},
   "outputs": [
    {
     "data": {
      "text/plain": [
       "{'fname': 'Lorch',\n",
       " 'sname': 'Bernelli',\n",
       " 'town': 'Coimbra',\n",
       " 'specialty': 'Rifles',\n",
       " 'function': <function __main__.shoot()>,\n",
       " 'stance': 'Tactical Blaster'}"
      ]
     },
     "execution_count": 142,
     "metadata": {},
     "output_type": "execute_result"
    }
   ],
   "source": [
    "# add the key onto dictionary\n",
    "squad_dict[\"stance\"] = \"Tactical Blaster\"\n",
    "squad_dict"
   ]
  },
  {
   "cell_type": "code",
   "execution_count": 143,
   "metadata": {},
   "outputs": [
    {
     "data": {
      "text/plain": [
       "{'Apple', 'Banana', 'Melon'}"
      ]
     },
     "execution_count": 143,
     "metadata": {},
     "output_type": "execute_result"
    }
   ],
   "source": [
    "# set is list of unique values\n",
    "fruits = {'Apple', 'Apple', 'Banana', 'Melon'}\n",
    "fruits"
   ]
  },
  {
   "cell_type": "code",
   "execution_count": 145,
   "metadata": {},
   "outputs": [
    {
     "data": {
      "text/plain": [
       "{'Apple', 'Banana', 'Melon'}"
      ]
     },
     "execution_count": 145,
     "metadata": {},
     "output_type": "execute_result"
    }
   ],
   "source": [
    "# casting queries as set\n",
    "fruitlist = ['Apple', 'Apple', 'Banana', 'Melon']\n",
    "fruitset = set(fruitlist)\n",
    "fruitset"
   ]
  },
  {
   "cell_type": "code",
   "execution_count": null,
   "metadata": {},
   "outputs": [],
   "source": []
  }
 ],
 "metadata": {
  "kernelspec": {
   "display_name": "base",
   "language": "python",
   "name": "python3"
  },
  "language_info": {
   "codemirror_mode": {
    "name": "ipython",
    "version": 3
   },
   "file_extension": ".py",
   "mimetype": "text/x-python",
   "name": "python",
   "nbconvert_exporter": "python",
   "pygments_lexer": "ipython3",
   "version": "3.9.13"
  },
  "orig_nbformat": 4
 },
 "nbformat": 4,
 "nbformat_minor": 2
}
