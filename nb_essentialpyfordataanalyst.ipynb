{
 "cells": [
  {
   "cell_type": "markdown",
   "metadata": {},
   "source": [
    "## ESSENTIAL PYTHON FOR DATA ANALYST\n",
    "today we will learn on the following topics\n",
    "- Control flow + function\n",
    "- OOP\n",
    "- try and except handle error\n",
    "- ontext manager, csv, json\n",
    "- API\n",
    "- web scraping\n",
    "- intro to DS libraries"
   ]
  },
  {
   "cell_type": "code",
   "execution_count": 3,
   "metadata": {},
   "outputs": [],
   "source": [
    "# define the function without arguments\n",
    "def hello():\n",
    "    print(\"Hello\")"
   ]
  },
  {
   "cell_type": "code",
   "execution_count": 9,
   "metadata": {},
   "outputs": [],
   "source": [
    "# define the lambda function\n",
    "hello_lamb = lambda : print(\"Hello\")"
   ]
  },
  {
   "cell_type": "code",
   "execution_count": 10,
   "metadata": {},
   "outputs": [
    {
     "name": "stdout",
     "output_type": "stream",
     "text": [
      "Hello\n"
     ]
    }
   ],
   "source": [
    "hello_lamb()"
   ]
  },
  {
   "cell_type": "code",
   "execution_count": 13,
   "metadata": {},
   "outputs": [
    {
     "name": "stdout",
     "output_type": "stream",
     "text": [
      "Hello! James\n"
     ]
    }
   ],
   "source": [
    "hello_name = lambda name: print(\"Hello! \" + name)\n",
    "hello_name(\"James\")"
   ]
  },
  {
   "cell_type": "code",
   "execution_count": 14,
   "metadata": {},
   "outputs": [],
   "source": [
    "# control flow (for, while, do, if, elif, else)"
   ]
  },
  {
   "cell_type": "code",
   "execution_count": 15,
   "metadata": {},
   "outputs": [],
   "source": [
    "def grading(score):\n",
    "    \"\"\"\n",
    "    This function is to return the grade for student.\n",
    "    Input the score as int.\n",
    "    Output return as String.\n",
    "    \"\"\"\n",
    "    if score >= 80:\n",
    "        return \"A\"\n",
    "    else:\n",
    "        return \"NOT A\""
   ]
  },
  {
   "cell_type": "code",
   "execution_count": 16,
   "metadata": {},
   "outputs": [
    {
     "data": {
      "text/plain": [
       "'NOT A'"
      ]
     },
     "execution_count": 16,
     "metadata": {},
     "output_type": "execute_result"
    }
   ],
   "source": [
    "grading(55)"
   ]
  },
  {
   "cell_type": "code",
   "execution_count": 20,
   "metadata": {},
   "outputs": [
    {
     "name": "stdout",
     "output_type": "stream",
     "text": [
      "2\n",
      "4\n",
      "6\n",
      "8\n",
      "10\n"
     ]
    }
   ],
   "source": [
    "# for loop\n",
    "nums = [1,2,3,4,5]\n",
    "nums * 2 # this return [1, 2, 3, 4, 5, 1, 2, 3, 4, 5], which is not what we want (we could do it later in np, but not in vanilla python since it's list, not vector)\n",
    "for i in nums:\n",
    "    print(i*2)"
   ]
  },
  {
   "cell_type": "code",
   "execution_count": 22,
   "metadata": {},
   "outputs": [
    {
     "data": {
      "text/plain": [
       "[2, 4, 6, 8, 10]"
      ]
     },
     "execution_count": 22,
     "metadata": {},
     "output_type": "execute_result"
    }
   ],
   "source": [
    "new_nums = []\n",
    "for i in nums:\n",
    "    new_nums.append(i*2)\n",
    "new_nums"
   ]
  },
  {
   "cell_type": "code",
   "execution_count": 24,
   "metadata": {},
   "outputs": [
    {
     "data": {
      "text/plain": [
       "[2, 4, 6, 8, 10]"
      ]
     },
     "execution_count": 24,
     "metadata": {},
     "output_type": "execute_result"
    }
   ],
   "source": [
    "# we have not to write for loop all the time using list comprehension\n",
    "x = [1,2,3,4,5]\n",
    "y = [i*2 for i in x]\n",
    "y"
   ]
  },
  {
   "cell_type": "code",
   "execution_count": 27,
   "metadata": {},
   "outputs": [
    {
     "name": "stdout",
     "output_type": "stream",
     "text": [
      "35 is odd\n",
      "20 is even\n",
      "124 is even\n",
      "545 is odd\n",
      "66 is even\n"
     ]
    }
   ],
   "source": [
    "# check if each elements in nums is even or odd\n",
    "nums = [35,20,124,545,66]\n",
    "\n",
    "for i in nums:\n",
    "    if i%2 == 0:\n",
    "        print(f\"{i} is even\")\n",
    "    else:\n",
    "        print(f\"{i} is odd\")"
   ]
  },
  {
   "cell_type": "code",
   "execution_count": null,
   "metadata": {},
   "outputs": [],
   "source": []
  }
 ],
 "metadata": {
  "kernelspec": {
   "display_name": "base",
   "language": "python",
   "name": "python3"
  },
  "language_info": {
   "codemirror_mode": {
    "name": "ipython",
    "version": 3
   },
   "file_extension": ".py",
   "mimetype": "text/x-python",
   "name": "python",
   "nbconvert_exporter": "python",
   "pygments_lexer": "ipython3",
   "version": "3.9.13"
  },
  "orig_nbformat": 4
 },
 "nbformat": 4,
 "nbformat_minor": 2
}
